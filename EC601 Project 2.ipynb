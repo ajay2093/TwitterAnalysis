{
 "cells": [
  {
   "cell_type": "code",
   "execution_count": null,
   "metadata": {},
   "outputs": [],
   "source": [
    "!pip install tweepy==4.9.0\n",
    "#API Key - 9y9uyYtzCQZhrmishaFmlKwOG\n",
    "#API Secret Key - DUVnngbDHcKA4ytOWH3XXqs7JDDrGlzbnNftts2la2rR3EL5tA\n",
    "#Bearer Token - AAAAAAAAAAAAAAAAAAAAAOD5iAEAAAAAb8tcsqHQotKI4IvSf2a3%2B1nGw9s%3DJAOo37Yrq4yU7ud8yfo507QsnS8sNfMbw32H7gcXwu1nbTvn2q\n",
    "#Client ID - b0ZDaWJkSFZISmlfQnlxVUlMZzU6MTpjaQ\n",
    "#Client Secret - afzHw0FjTx0MhsEPjF_EK61pSsxVYzyHE7PJDmge_G3l4CWdpB\n",
    "#BhrXVzfdtZWadU5f0mY5B9dIXwm_vZPe3caA-B19c9wNF2atNx\n",
    "\n",
    "#Access token - 3147434104-tLthMbDh8QZ1cN7yaeGWySpVSHeUTSGBKo2scCI\n",
    "#AT Secret - pxxp0ospu68358qn3JUwvChH6DKQI1pKSthX3rxLKnnny\n",
    "\n",
    "#!pip install --upgrade google-cloud-language"
   ]
  },
  {
   "cell_type": "code",
   "execution_count": null,
   "metadata": {},
   "outputs": [],
   "source": [
    "#!set GOOGLE_APPLICATION_CREDENTIALS = C:\\Users\\Acer\\Music\\EC 601rare-habitat-365718-0606384fe7fe.json\n",
    "#!pip install textblob\n",
    "#!pip install nltk"
   ]
  },
  {
   "cell_type": "code",
   "execution_count": null,
   "metadata": {},
   "outputs": [],
   "source": [
    "#!pip install PIL\n",
    "#!pip install wordcloud\n",
    "#!pip install matplotlib"
   ]
  },
  {
   "cell_type": "code",
   "execution_count": null,
   "metadata": {},
   "outputs": [],
   "source": []
  },
  {
   "cell_type": "code",
   "execution_count": 1,
   "metadata": {},
   "outputs": [],
   "source": [
    "import tweepy\n",
    "import pandas as pd\n",
    "import re\n",
    "from nltk.sentiment.vader import SentimentIntensityAnalyzer\n",
    "from textblob import TextBlob\n",
    "import nltk\n",
    "#nltk.download('vader_lexicon')\n",
    "\n",
    "import numpy as np\n",
    "from PIL import Image\n",
    "from wordcloud import WordCloud, STOPWORDS\n",
    "import matplotlib.pyplot as plt"
   ]
  },
  {
   "cell_type": "code",
   "execution_count": 2,
   "metadata": {},
   "outputs": [],
   "source": [
    "twitter_client = tweepy.Client(bearer_token = 'AAAAAAAAAAAAAAAAAAAAAOD5iAEAAAAAb8tcsqHQotKI4IvSf2a3%2B1nGw9s%3DJAOo37Yrq4yU7ud8yfo507QsnS8sNfMbw32H7gcXwu1nbTvn2q')\n",
    "#google_client = language_v1.LanguageServiceClient()"
   ]
  },
  {
   "cell_type": "code",
   "execution_count": 3,
   "metadata": {},
   "outputs": [],
   "source": [
    "query = '#apple -is:retweet lang:en'\n",
    "\n",
    "\n",
    "tweet_list = []\n",
    "#tweet_list_df = []\n",
    "\n"
   ]
  },
  {
   "cell_type": "code",
   "execution_count": 4,
   "metadata": {},
   "outputs": [],
   "source": [
    "def get_tweets(query,tweet_list):\n",
    "    paginator = tweepy.Paginator(\n",
    "    twitter_client.search_recent_tweets,           # The method you want to use\n",
    "    query=query,                           # Some argument for this method\n",
    "    max_results=100,                       # How many tweets per page\n",
    "    limit=10                               # How many pages to retrieve\n",
    "    )\n",
    "\n",
    "    for tweet in paginator.flatten(): # Total number of tweets to retrieve\n",
    "        tweet_list.append(tweet)\n",
    "    #print(tweet)\n",
    "    tweet_list_df = pd.DataFrame(tweet_list)\n",
    "    tweet_list_df = pd.DataFrame(tweet_list_df['text'])\n",
    "    return tweet_list,tweet_list_df\n",
    "\n",
    "a,b = get_tweets(query,tweet_list)"
   ]
  },
  {
   "cell_type": "markdown",
   "metadata": {},
   "source": [
    "### Creating DataFrame"
   ]
  },
  {
   "cell_type": "code",
   "execution_count": null,
   "metadata": {},
   "outputs": [],
   "source": [
    "#def create_df()    \n",
    "    \n",
    "b.head(5)"
   ]
  },
  {
   "cell_type": "code",
   "execution_count": null,
   "metadata": {},
   "outputs": [],
   "source": []
  },
  {
   "cell_type": "code",
   "execution_count": 5,
   "metadata": {},
   "outputs": [],
   "source": [
    "def preprocess_tweet(sen):\n",
    "    '''Cleans text data up, leaving only 2 or more char long non-stepwords composed of A-Z & a-z only\n",
    "    in lowercase'''\n",
    "    \n",
    "    sentence = sen.lower()\n",
    "\n",
    "    # Remove RT\n",
    "    sentence = re.sub('RT @\\w+: ',\" \", sentence)\n",
    "\n",
    "    # Remove punctuations and numbers\n",
    "    sentence = re.sub(\"(@[A-Za-z0-9]+)|([^0-9A-Za-z \\t])|(\\w+:\\/\\/\\S+)\",\" \", sentence)\n",
    "\n",
    "    # Single character removal\n",
    "    sentence = re.sub(r\"\\s+[a-zA-Z]\\s+\", ' ', sentence)  # When we remove apostrophe from the word \"Mark's\", the apostrophe is replaced by an empty space. Hence, we are left with single character \"s\" that we are removing here.\n",
    "\n",
    "    # Remove multiple spaces\n",
    "    sentence = re.sub(r'\\s+', ' ', sentence)  # Next, we remove all the single characters and replace it by a space which creates multiple spaces in our text. Finally, we remove the multiple spaces from our text as well.\n",
    "\n",
    "    return sentence"
   ]
  },
  {
   "cell_type": "code",
   "execution_count": 6,
   "metadata": {},
   "outputs": [],
   "source": [
    "\n",
    "def clean_tweet(tweet_list_df):\n",
    "    cleaned_tweets = []\n",
    "    for tweet in tweet_list_df['text']:\n",
    "        cleaned_tweet = preprocess_tweet(tweet)\n",
    "        cleaned_tweets.append(cleaned_tweet)\n",
    "        tweet_list_df['cleaned'] = pd.DataFrame(cleaned_tweets)\n",
    "    return tweet_list_df\n",
    "    \n",
    "\n",
    "def sentiment(tweet_list_df):\n",
    "    tweet_list_df[['polarity', 'subjectivity']] = tweet_list_df['cleaned'].apply(lambda Text: pd.Series(TextBlob(Text).sentiment))\n",
    "    for index, row in tweet_list_df['cleaned'].iteritems():\n",
    "        score = SentimentIntensityAnalyzer().polarity_scores(row)\n",
    "        neg = score['neg']\n",
    "        neu = score['neu']\n",
    "        pos = score['pos']\n",
    "        comp = score['compound']\n",
    "        if comp <= -0.05:\n",
    "            tweet_list_df.loc[index, 'sentiment'] = \"negative\"\n",
    "        elif comp >= 0.05:\n",
    "            tweet_list_df.loc[index, 'sentiment'] = \"positive\"\n",
    "        else:\n",
    "            tweet_list_df.loc[index, 'sentiment'] = \"neutral\"\n",
    "        tweet_list_df.loc[index, 'neg'] = neg\n",
    "        tweet_list_df.loc[index, 'neu'] = neu\n",
    "        tweet_list_df.loc[index, 'pos'] = pos\n",
    "        tweet_list_df.loc[index, 'compound'] = comp\n",
    "\n",
    "        \n",
    "    return tweet_list_df\n",
    "\n",
    "#b = clean_tweet(b)\n",
    "    \n"
   ]
  },
  {
   "cell_type": "code",
   "execution_count": null,
   "metadata": {},
   "outputs": [],
   "source": []
  },
  {
   "cell_type": "code",
   "execution_count": null,
   "metadata": {},
   "outputs": [],
   "source": []
  },
  {
   "cell_type": "code",
   "execution_count": null,
   "metadata": {},
   "outputs": [],
   "source": []
  },
  {
   "cell_type": "code",
   "execution_count": 11,
   "metadata": {},
   "outputs": [],
   "source": [
    "def count_values_in_column(data,feature):\n",
    "    total=data.loc[:,feature].value_counts(dropna=False)\n",
    "    percentage=round(data.loc[:,feature].value_counts(dropna=False,normalize=True)*100,2)\n",
    "    return pd.concat([total,percentage],axis=1,keys=['Total','Percentage'])"
   ]
  },
  {
   "cell_type": "code",
   "execution_count": null,
   "metadata": {},
   "outputs": [],
   "source": []
  },
  {
   "cell_type": "code",
   "execution_count": 7,
   "metadata": {},
   "outputs": [],
   "source": [
    "query_don = '#donaldtrump -is:retweet lang:en'\n",
    "query_joe = '#joebiden -is:retweet lang:en'\n",
    "don_list = []\n",
    "joe_list = []\n",
    "don_list,don_df = get_tweets(query_don,don_list)\n",
    "don_df = clean_tweet(don_df)\n",
    "don_df = sentiment(don_df)\n",
    "\n",
    "\n",
    "joe_list,joe_df = get_tweets(query_joe,joe_list)\n",
    "joe_df = clean_tweet(joe_df)\n",
    "joe_df = sentiment(joe_df)\n",
    "\n",
    "\n"
   ]
  },
  {
   "cell_type": "code",
   "execution_count": 8,
   "metadata": {},
   "outputs": [
    {
     "data": {
      "text/html": [
       "<div>\n",
       "<style scoped>\n",
       "    .dataframe tbody tr th:only-of-type {\n",
       "        vertical-align: middle;\n",
       "    }\n",
       "\n",
       "    .dataframe tbody tr th {\n",
       "        vertical-align: top;\n",
       "    }\n",
       "\n",
       "    .dataframe thead th {\n",
       "        text-align: right;\n",
       "    }\n",
       "</style>\n",
       "<table border=\"1\" class=\"dataframe\">\n",
       "  <thead>\n",
       "    <tr style=\"text-align: right;\">\n",
       "      <th></th>\n",
       "      <th>text</th>\n",
       "      <th>cleaned</th>\n",
       "      <th>polarity</th>\n",
       "      <th>subjectivity</th>\n",
       "      <th>sentiment</th>\n",
       "      <th>neg</th>\n",
       "      <th>neu</th>\n",
       "      <th>pos</th>\n",
       "      <th>compound</th>\n",
       "    </tr>\n",
       "  </thead>\n",
       "  <tbody>\n",
       "    <tr>\n",
       "      <th>0</th>\n",
       "      <td>Joe being Joe #JoeBiden https://t.co/cGoDGAIXmO</td>\n",
       "      <td>joe being joe joebiden</td>\n",
       "      <td>0.0</td>\n",
       "      <td>0.00</td>\n",
       "      <td>neutral</td>\n",
       "      <td>0.000</td>\n",
       "      <td>1.000</td>\n",
       "      <td>0.000</td>\n",
       "      <td>0.0000</td>\n",
       "    </tr>\n",
       "    <tr>\n",
       "      <th>1</th>\n",
       "      <td>@newsmax #JoeBiden WORST PRESIDENT EVER.</td>\n",
       "      <td>joebiden worst president ever</td>\n",
       "      <td>-1.0</td>\n",
       "      <td>1.00</td>\n",
       "      <td>negative</td>\n",
       "      <td>0.577</td>\n",
       "      <td>0.423</td>\n",
       "      <td>0.000</td>\n",
       "      <td>-0.6249</td>\n",
       "    </tr>\n",
       "    <tr>\n",
       "      <th>2</th>\n",
       "      <td>Problem SOLVED 👌 in 28 seconds [2022 Edition]\\...</td>\n",
       "      <td>problem solved in 28 seconds 2022 edition it d...</td>\n",
       "      <td>0.5</td>\n",
       "      <td>0.55</td>\n",
       "      <td>positive</td>\n",
       "      <td>0.079</td>\n",
       "      <td>0.735</td>\n",
       "      <td>0.185</td>\n",
       "      <td>0.5574</td>\n",
       "    </tr>\n",
       "    <tr>\n",
       "      <th>3</th>\n",
       "      <td>@tedcruz #JoeBiden LOOK AT WHAT YOU DID.</td>\n",
       "      <td>joebiden look at what you did</td>\n",
       "      <td>0.0</td>\n",
       "      <td>0.00</td>\n",
       "      <td>neutral</td>\n",
       "      <td>0.000</td>\n",
       "      <td>1.000</td>\n",
       "      <td>0.000</td>\n",
       "      <td>0.0000</td>\n",
       "    </tr>\n",
       "    <tr>\n",
       "      <th>4</th>\n",
       "      <td>Jill Biden should have passed out free Boga Da...</td>\n",
       "      <td>jill biden should have passed out free boga da...</td>\n",
       "      <td>0.4</td>\n",
       "      <td>0.80</td>\n",
       "      <td>positive</td>\n",
       "      <td>0.000</td>\n",
       "      <td>0.898</td>\n",
       "      <td>0.102</td>\n",
       "      <td>0.5106</td>\n",
       "    </tr>\n",
       "  </tbody>\n",
       "</table>\n",
       "</div>"
      ],
      "text/plain": [
       "                                                text  \\\n",
       "0    Joe being Joe #JoeBiden https://t.co/cGoDGAIXmO   \n",
       "1           @newsmax #JoeBiden WORST PRESIDENT EVER.   \n",
       "2  Problem SOLVED 👌 in 28 seconds [2022 Edition]\\...   \n",
       "3           @tedcruz #JoeBiden LOOK AT WHAT YOU DID.   \n",
       "4  Jill Biden should have passed out free Boga Da...   \n",
       "\n",
       "                                             cleaned  polarity  subjectivity  \\\n",
       "0                            joe being joe joebiden        0.0          0.00   \n",
       "1                     joebiden worst president ever       -1.0          1.00   \n",
       "2  problem solved in 28 seconds 2022 edition it d...       0.5          0.55   \n",
       "3                     joebiden look at what you did        0.0          0.00   \n",
       "4  jill biden should have passed out free boga da...       0.4          0.80   \n",
       "\n",
       "  sentiment    neg    neu    pos  compound  \n",
       "0   neutral  0.000  1.000  0.000    0.0000  \n",
       "1  negative  0.577  0.423  0.000   -0.6249  \n",
       "2  positive  0.079  0.735  0.185    0.5574  \n",
       "3   neutral  0.000  1.000  0.000    0.0000  \n",
       "4  positive  0.000  0.898  0.102    0.5106  "
      ]
     },
     "execution_count": 8,
     "metadata": {},
     "output_type": "execute_result"
    }
   ],
   "source": [
    "joe_df.head(5)"
   ]
  },
  {
   "cell_type": "code",
   "execution_count": 9,
   "metadata": {},
   "outputs": [
    {
     "data": {
      "text/html": [
       "<div>\n",
       "<style scoped>\n",
       "    .dataframe tbody tr th:only-of-type {\n",
       "        vertical-align: middle;\n",
       "    }\n",
       "\n",
       "    .dataframe tbody tr th {\n",
       "        vertical-align: top;\n",
       "    }\n",
       "\n",
       "    .dataframe thead th {\n",
       "        text-align: right;\n",
       "    }\n",
       "</style>\n",
       "<table border=\"1\" class=\"dataframe\">\n",
       "  <thead>\n",
       "    <tr style=\"text-align: right;\">\n",
       "      <th></th>\n",
       "      <th>text</th>\n",
       "      <th>cleaned</th>\n",
       "      <th>polarity</th>\n",
       "      <th>subjectivity</th>\n",
       "      <th>sentiment</th>\n",
       "      <th>neg</th>\n",
       "      <th>neu</th>\n",
       "      <th>pos</th>\n",
       "      <th>compound</th>\n",
       "    </tr>\n",
       "  </thead>\n",
       "  <tbody>\n",
       "    <tr>\n",
       "      <th>0</th>\n",
       "      <td>Random Trump https://t.co/EAVkU7r66e - #random...</td>\n",
       "      <td>random trump randomtrump trump donaldtrump gip...</td>\n",
       "      <td>-0.500</td>\n",
       "      <td>0.500</td>\n",
       "      <td>neutral</td>\n",
       "      <td>0.000</td>\n",
       "      <td>1.000</td>\n",
       "      <td>0.000</td>\n",
       "      <td>0.0000</td>\n",
       "    </tr>\n",
       "    <tr>\n",
       "      <th>1</th>\n",
       "      <td>@ABC I foresee another money-grab excuse again...</td>\n",
       "      <td>foresee another money grab excuse against the...</td>\n",
       "      <td>-0.175</td>\n",
       "      <td>0.425</td>\n",
       "      <td>neutral</td>\n",
       "      <td>0.213</td>\n",
       "      <td>0.516</td>\n",
       "      <td>0.271</td>\n",
       "      <td>-0.0258</td>\n",
       "    </tr>\n",
       "    <tr>\n",
       "      <th>2</th>\n",
       "      <td>Former employee claims Trump media company com...</td>\n",
       "      <td>former employee claims trump media company com...</td>\n",
       "      <td>0.000</td>\n",
       "      <td>0.000</td>\n",
       "      <td>negative</td>\n",
       "      <td>0.209</td>\n",
       "      <td>0.654</td>\n",
       "      <td>0.137</td>\n",
       "      <td>-0.2732</td>\n",
       "    </tr>\n",
       "    <tr>\n",
       "      <th>3</th>\n",
       "      <td>Trump attacks U.S. Jews, posting they must 'ge...</td>\n",
       "      <td>trump attacks s jews posting they must get the...</td>\n",
       "      <td>0.000</td>\n",
       "      <td>0.000</td>\n",
       "      <td>negative</td>\n",
       "      <td>0.172</td>\n",
       "      <td>0.828</td>\n",
       "      <td>0.000</td>\n",
       "      <td>-0.4404</td>\n",
       "    </tr>\n",
       "    <tr>\n",
       "      <th>4</th>\n",
       "      <td>Random Trump https://t.co/kaVERNld0D - #random...</td>\n",
       "      <td>random trump randomtrump trump donaldtrump gip...</td>\n",
       "      <td>-0.500</td>\n",
       "      <td>0.500</td>\n",
       "      <td>neutral</td>\n",
       "      <td>0.000</td>\n",
       "      <td>1.000</td>\n",
       "      <td>0.000</td>\n",
       "      <td>0.0000</td>\n",
       "    </tr>\n",
       "  </tbody>\n",
       "</table>\n",
       "</div>"
      ],
      "text/plain": [
       "                                                text  \\\n",
       "0  Random Trump https://t.co/EAVkU7r66e - #random...   \n",
       "1  @ABC I foresee another money-grab excuse again...   \n",
       "2  Former employee claims Trump media company com...   \n",
       "3  Trump attacks U.S. Jews, posting they must 'ge...   \n",
       "4  Random Trump https://t.co/kaVERNld0D - #random...   \n",
       "\n",
       "                                             cleaned  polarity  subjectivity  \\\n",
       "0  random trump randomtrump trump donaldtrump gip...    -0.500         0.500   \n",
       "1   foresee another money grab excuse against the...    -0.175         0.425   \n",
       "2  former employee claims trump media company com...     0.000         0.000   \n",
       "3  trump attacks s jews posting they must get the...     0.000         0.000   \n",
       "4  random trump randomtrump trump donaldtrump gip...    -0.500         0.500   \n",
       "\n",
       "  sentiment    neg    neu    pos  compound  \n",
       "0   neutral  0.000  1.000  0.000    0.0000  \n",
       "1   neutral  0.213  0.516  0.271   -0.0258  \n",
       "2  negative  0.209  0.654  0.137   -0.2732  \n",
       "3  negative  0.172  0.828  0.000   -0.4404  \n",
       "4   neutral  0.000  1.000  0.000    0.0000  "
      ]
     },
     "execution_count": 9,
     "metadata": {},
     "output_type": "execute_result"
    }
   ],
   "source": [
    "don_df.head(5)"
   ]
  },
  {
   "cell_type": "code",
   "execution_count": 27,
   "metadata": {},
   "outputs": [
    {
     "name": "stdout",
     "output_type": "stream",
     "text": [
      "Tweeets on Donald Trump:\n",
      "          Total  Percentage\n",
      "positive    393        39.3\n",
      "neutral     367        36.7\n",
      "negative    240        24.0\n",
      "\n",
      "\n",
      "Tweets on Joe Biden:\n",
      "          Total  Percentage\n",
      "negative    471       47.15\n",
      "positive    330       33.03\n",
      "neutral     198       19.82\n"
     ]
    }
   ],
   "source": [
    "count_don = count_values_in_column(don_df,\"sentiment\")\n",
    "\n",
    "count_joe = count_values_in_column(joe_df,\"sentiment\")\n",
    "\n",
    "print(\"Tweeets on Donald Trump:\",count_don,'\\n',\"Tweets on Joe Biden:\",count_joe,sep='\\n')"
   ]
  },
  {
   "cell_type": "code",
   "execution_count": 13,
   "metadata": {},
   "outputs": [
    {
     "data": {
      "image/png": "[encoded data removed]",
      "text/plain": [
       "<Figure size 432x288 with 1 Axes>"
      ]
     },
     "metadata": {},
     "output_type": "display_data"
    }
   ],
   "source": [
    "# create data for Pie Chart\n",
    "#pichart = count_values_in_column(tweet_list_df,\"sentiment\")\n",
    "# names= pc.index\n",
    "# size=pc[\"Percentage\"]\n",
    "\n",
    "names= count_don.index\n",
    "size=count_don[\"Percentage\"]\n",
    "\n",
    "# Create a circle for the center of the plot\n",
    "my_circle=plt.Circle( (0,0), 0.7, color='white')\n",
    "plt.pie(size, labels=names, colors=['green','blue','red'])\n",
    "p=plt.gcf()\n",
    "p.gca().add_artist(my_circle)\n",
    "plt.show()"
   ]
  },
  {
   "cell_type": "code",
   "execution_count": 14,
   "metadata": {},
   "outputs": [
    {
     "data": {
      "image/png": "[encoded data removed]",
      "text/plain": [
       "<Figure size 432x288 with 1 Axes>"
      ]
     },
     "metadata": {},
     "output_type": "display_data"
    }
   ],
   "source": [
    "# create data for Pie Chart\n",
    "#pichart = count_values_in_column(tweet_list_df,\"sentiment\")\n",
    "# names= pc.index\n",
    "# size=pc[\"Percentage\"]\n",
    "\n",
    "names= count_joe.index\n",
    "size=count_joe[\"Percentage\"]\n",
    "\n",
    "# Create a circle for the center of the plot\n",
    "my_circle=plt.Circle( (0,0), 0.7, color='white')\n",
    "plt.pie(size, labels=names, colors=['green','blue','red'])\n",
    "p=plt.gcf()\n",
    "p.gca().add_artist(my_circle)\n",
    "plt.show()"
   ]
  },
  {
   "cell_type": "code",
   "execution_count": 20,
   "metadata": {},
   "outputs": [
    {
     "name": "stdout",
     "output_type": "stream",
     "text": [
      "Joe Biden has better acceptance rate than Donald Trump\n"
     ]
    }
   ],
   "source": [
    "#a = np.where(count_don['price_1'] == count_joe['price_2'], 'True', 'False')\n",
    "\n",
    "if(count_don.iloc[0]['Percentage'] >= count_joe.iloc[0]['Percentage']):\n",
    "    print(\"Donald Trump has better acceptance rate than Joe Biden\")\n",
    "else:\n",
    "    print(\"Joe Biden has better acceptance rate than Donald Trump\")"
   ]
  }
 ],
 "metadata": {
  "kernelspec": {
   "display_name": "Python 3",
   "language": "python",
   "name": "python3"
  },
  "language_info": {
   "codemirror_mode": {
    "name": "ipython",
    "version": 3
   },
   "file_extension": ".py",
   "mimetype": "text/x-python",
   "name": "python",
   "nbconvert_exporter": "python",
   "pygments_lexer": "ipython3",
   "version": "3.7.3"
  }
 },
 "nbformat": 4,
 "nbformat_minor": 5
}
